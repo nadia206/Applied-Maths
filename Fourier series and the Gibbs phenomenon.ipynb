{
 "cells": [
  {
   "cell_type": "markdown",
   "id": "d2f0a1",
   "metadata": {
    "collapsed": false
   },
   "source": [
    "**24007965, 24010268, 24005911, 24006362**\n",
    "\n",
    "Before you start work on the project, **[click on this link to read the MATH0011 project instructions.](https://www.ucl.ac.uk/~ucahmto/0011/project-instructions-2025.html)**\n",
    "\n"
   ]
  },
  {
   "cell_type": "markdown",
   "id": "ecb94d",
   "metadata": {
    "collapsed": false
   },
   "source": [
    "# Fourier series and the Gibbs phenomenon\n",
    "\n",
    "This project is about [Fourier series](https://en.wikipedia.org/wiki/Fourier_series), although you don't need any previous knowledge of Fourier series (covered in [MATH0008 Applied Mathematics 1](https://www.ucl.ac.uk/maths/sites/maths/files/math0008.pdf) and [MATH0016 Methods 3](https://www.ucl.ac.uk/maths/sites/maths/files/math0016.pdf)) to complete it. By doing this project you will implement the (extremely useful) mathematical techinque of computing Fourier series, gain experience in plotting using `matplotlib`, learn how to do numerical integration with `scipy`, and practise reading the documentation for Python modules.\n",
    "\n",
    "### Recap on Fourier series\n",
    "\n",
    "In your analysis modules you looked at power series representations for functions - for example, you can represent the function $f(x) = e^x$ by a series\n",
    "$$ \\sum_{i=0}^\\infty \\frac{x^i}{i!}.$$\n",
    "A power series for a function $f$ expresses $f(x)$ as a sum of multiples of powers of $x$.  Fourier series are similar, but they represent functions as sums of multiples of functions of the form $\\sin(nx)$ and $\\cos(mx)$.\n",
    "\n",
    "The coefficients in the Taylor series for a function $f$ are related to the derivatives of $f$ at 0: the Taylor series about $x=0$ for a smooth function $f$ is $\\sum_{n=0}^\\infty \\frac{f^{n}(0)}{n!} x^n$.  The coefficients in the Fourier series for a function are obtained by integration.  Specifically, the Fourier series for a function $f$ on the interval $[0, 2\\pi]$ is\n",
    "\n",
    "$$ a_0 + \\sum_{n=1}^\\infty a_n \\cos(nx) + \\sum_{n=1}^\\infty b_n \\sin(nx)  \\;\\;\\;\\;\\;\\; (\\dagger)$$\n",
    "\n",
    "where the coefficients are given by $a_0 = \\frac{1}{2\\pi} \\int_0^{2\\pi} f(x) \\;dx$, and for $n\\geqslant 1$,\n",
    "\n",
    "$$ a_n = \\frac{1}{\\pi} \\int_0 ^{2\\pi} f(x) \\cos(nx)\\; dx \\;\\;\\;\\;\\; \\text{and} \\;\\;\\;\\;\\; b_n = \\frac{1}{\\pi} \\int_0 ^{2\\pi} f(x) \\sin(nx)\\; dx. $$\n",
    "\n",
    "Just like a Taylor series, the Fourier series ($\\dagger$) may or may not converge to $f(x)$ - what happens depends on $f$ and on $x$. In this project you will use numerical integration to compute Fourier coefficients, plot partial sums of Fourier series to see how the series behave as we add more and more terms, look at the Gibbs pheonomenon which describes how the partial sums of Fourier series behave at points of discontinuity of the function, and how to mitigate it.\n",
    "\n",
    "The first cell below imports some modules you may need."
   ]
  },
  {
   "cell_type": "code",
   "execution_count": 3,
   "id": "c4ec37",
   "metadata": {
    "collapsed": false
   },
   "outputs": [
   ],
   "source": [
    "import math\n",
    "import matplotlib.pyplot as plt\n",
    "import numpy as np\n",
    "import scipy.integrate as integrate\n",
    "from scipy.integrate import quad"
   ]
  },
  {
   "cell_type": "markdown",
   "id": "5d1e01",
   "metadata": {
    "collapsed": false
   },
   "source": [
    "## Part 1 - numerical integration and Fourier coefficients\n",
    "\n",
    "Read [the `scipy` documentation](https://docs.scipy.org/doc/scipy/index.html) to find out how to do numerical integration using `scipy.integrate`.  You don't need to do anything complex here - basic usage of the `scipy.integrate` methods will produce excellent results for the functions we will work with.  As a test, **write code in the next cell to numerically compute and print out approximations of the values of $\\int_0^1 x^2 \\; dx$, $\\int_0^\\infty e^{-x^2} \\; dx$, and $\\int_0^{2\\pi} \\sin(6x) \\; dx$.**  Your answers should be approximately $1/3$, $\\sqrt{\\pi}/2$, and $0$."
   ]
  },
  {
   "cell_type": "code",
   "execution_count": 4,
   "id": "fee48f",
   "metadata": {
    "collapsed": false
   },
   "outputs": [
    {
     "name": "stdout",
     "output_type": "stream",
     "text": [
      "0.33333333333333337 0.8862269254527579 1.9050237047800507e-15\n"
     ]
    }
   ],
   "source": [
    "def f(x):\n",
    "    return x**2\n",
    "#defining the function for the first integral required\n",
    "def g(x):\n",
    "    return np.exp(-(x**2))\n",
    "#defining the function for the second integral required\n",
    "def h(x): \n",
    "    return np.sin(6*x)\n",
    "#defining the function for the third integral required\n",
    "integral1 = quad(f, 0, 1)\n",
    "integral2 = quad(g, 0, np.inf)\n",
    "integral3 = quad(h, 0, (2*(np.pi)))\n",
    "\n",
    "#calculatng integrals using the quad function \n",
    "\n",
    "print (integral1[0], integral2[0], integral3[0]) \n",
    "# used the [0] to get the first position to exclude the estimation in the output"
   ]
  },
  {
   "cell_type": "markdown",
   "id": "3b0f2b",
   "metadata": {
    "collapsed": false
   },
   "source": [
    "**Using `scipy.integrate`, write functions `a0(f)`, `a(n, f)`, and `b(n, f)` which return the Fourier coefficients $a_0$, $a_n$, and $b_n$ of a function $f : \\mathbb{R} \\to \\mathbb{R}$ as defined in the introduction to this notebook.**\n",
    "\n",
    "Don't forget the constants $\\frac1\\pi$ and $\\frac{1}{2\\pi}$ outside the integrals!\n",
    "\n",
    "It will help you to express yourself concisely in Python if you learn about `lambda`s.  You don't need to do this to answer this part of the project, but if you want to you can read about them [here](https://www.w3schools.com/python/python_lambda.asp)."
   ]
  },
  {
   "cell_type": "code",
   "execution_count": 5,
   "id": "0909a6",
   "metadata": {
    "collapsed": false
   },
   "outputs": [
   ],
   "source": [
    "def a0(f):\n",
    "    result = quad (f, 0, (2*np.pi))\n",
    "    return (1/(2*np.pi))*(result[0])\n",
    "# using the local variable \"result\" to do the integration then using return to output the value of a0"
   ]
  },
  {
   "cell_type": "code",
   "execution_count": 6,
   "id": "efb69e",
   "metadata": {
    "collapsed": false
   },
   "outputs": [
   ],
   "source": [
    "def a(n, f):\n",
    "    def integrand(x):                       \n",
    "        return f(x) * np.cos(n*x)\n",
    "    #we defined a function in a function so we can use it to multiply f(x) with the cos function\n",
    "    result = quad (integrand, 0, (2*np.pi))\n",
    "    #using the integrand function to integrate\n",
    "    return (1/(np.pi))*(result[0])\n",
    "    \n",
    "  "
   ]
  },
  {
   "cell_type": "code",
   "execution_count": 7,
   "id": "c9804d",
   "metadata": {
    "collapsed": false
   },
   "outputs": [
   ],
   "source": [
    "def b(n, f):\n",
    "    def integrand(x):\n",
    "        return f(x) * np.sin(n*x)\n",
    "    #we defined a function in a function so we can use it to multiply f(x) with the sin function\n",
    "    result = quad (integrand, 0, (2*np.pi))\n",
    "    #using the integrand function to integrate\n",
    "    return (1/(np.pi))*(result[0])\n",
    "    "
   ]
  },
  {
   "cell_type": "markdown",
   "id": "036ad7",
   "metadata": {
    "collapsed": false
   },
   "source": [
    "Think of a way to test your functions `a0`, `a(n, f)`, and `b(n, f)` and do it in the cell below."
   ]
  },
  {
   "cell_type": "code",
   "execution_count": 8,
   "id": "6aed98",
   "metadata": {
    "collapsed": false
   },
   "outputs": [
    {
     "name": "stdout",
     "output_type": "stream",
     "text": [
      "13.159472534785811\n"
     ]
    }
   ],
   "source": [
    "def f(x):\n",
    "    return x**2\n",
    "#test\n",
    "\n",
    "print(a0(f))"
   ]
  },
  {
   "cell_type": "markdown",
   "id": "6c5e50",
   "metadata": {
    "collapsed": false
   },
   "source": [
    "## Part 2 - partial sums of Fourier series\n",
    "\n",
    "\"The $k$th partial sum of the Fourier series of a function $f$\" means the function sending a number $x$ to\n",
    "\n",
    "$$\\texttt{fourier\\_partial\\_sum}(k, f, x) = a_0 + \\sum_{n=1}^k a_n \\cos(nx) + \\sum_{n=1}^k b_n\\sin(nx)$$\n",
    "\n",
    "where $a_i$ and $b_i$ are the Fourier coefficients of $f$ defined as in the introduction to this project.\n",
    "\n",
    "**Using your answers to part 1, write a function `fourier_partial_sum(k, f, x)` which computes the $k$th partial sum of the Fourier series of $f$ at $x$.**"
   ]
  },
  {
   "cell_type": "code",
   "execution_count": 9,
   "id": "1a776c",
   "metadata": {
    "collapsed": false
   },
   "outputs": [
   ],
   "source": [
    "def fourier_partial_sum(k, f, x):\n",
    "    sum_a = 0\n",
    "    sum_b = 0\n",
    "   \n",
    "    for n in range(1,k+1):\n",
    "        sum_a +=(a(n, f))*np.cos(n*x)\n",
    "        sum_b +=  b(n, f)*(np.sin(n*x))\n",
    "        #using the for loop to do the summation\n",
    "    return a0(f)+ sum_a + sum_b\n",
    "    #returning the sum of summation values "
   ]
  },
  {
   "cell_type": "code",
   "execution_count": 10,
   "id": "5e2792",
   "metadata": {
    "collapsed": false,
    "scrolled": true
   },
   "outputs": [
    {
     "data": {
      "text/plain": [
       "0.8189484760356844"
      ]
     },
     "execution_count": 10,
     "metadata": {
     },
     "output_type": "execute_result"
    }
   ],
   "source": [
    "#Tests\n",
    "def f(x):\n",
    "    return x**2\n",
    "\n",
    "fourier_partial_sum(2, f, (np.pi)/4)\n",
    "\n"
   ]
  },
  {
   "cell_type": "code",
   "execution_count": 11,
   "id": "f5bb68",
   "metadata": {
    "collapsed": false
   },
   "outputs": [
    {
     "name": "stdout",
     "output_type": "stream",
     "text": [
      "2.828427124746191\n"
     ]
    }
   ],
   "source": [
    "#Tests\n",
    "sum_a = 0\n",
    "k = 2\n",
    "x = (np.pi)/4\n",
    "for n in range(1,k):\n",
    "        \n",
    "    sum_a += sum_a + (a(n, f)*np.cos(n*x))\n",
    "print (sum_a)"
   ]
  },
  {
   "cell_type": "code",
   "execution_count": 12,
   "id": "447410",
   "metadata": {
    "collapsed": false
   },
   "outputs": [
    {
     "name": "stdout",
     "output_type": "stream",
     "text": [
      "-8.885765876316732\n"
     ]
    }
   ],
   "source": [
    "#Test\n",
    "sum_b = 0\n",
    "k = 2\n",
    "x = (np.pi)/4\n",
    "for n in range(1,k):\n",
    "        \n",
    "    sum_b += sum_b + (b(n, f)*np.sin(n*x))\n",
    "print (sum_b)"
   ]
  },
  {
   "cell_type": "markdown",
   "id": "52df25",
   "metadata": {
    "collapsed": false
   },
   "source": [
    "## Part 3 - computing and plotting Fourier partial sums\n",
    "\n",
    "The square wave function is defined on the interval $[0, 2\\pi]$ by\n",
    "$$ \\mathtt{square\\_wave}(x) = \\begin{cases} \n",
    "\\pi/4 & 0 \\leqslant x \\leqslant \\pi \\\\\n",
    "-\\pi/4 & \\pi < x \\leqslant 2\\pi\\end{cases}$$\n",
    "\n",
    "**Write a Python function that computes the square wave function defined above.**  You don't need to consider inputs outside the interval $[0, 2\\pi]$."
   ]
  },
  {
   "cell_type": "code",
   "execution_count": 13,
   "id": "30ba91",
   "metadata": {
    "collapsed": false
   },
   "outputs": [
   ],
   "source": [
    "def square_wave(x):\n",
    "    if x<=np.pi:\n",
    "        out = math.pi/4\n",
    "    else:\n",
    "        out = -math.pi/4\n",
    "    return out\n",
    "# generating the correct values for the square wave"
   ]
  },
  {
   "cell_type": "code",
   "execution_count": 14,
   "id": "18ba12",
   "metadata": {
    "collapsed": false
   },
   "outputs": [
    {
     "data": {
      "text/plain": [
       "0.7853981633974483"
      ]
     },
     "execution_count": 14,
     "metadata": {
     },
     "output_type": "execute_result"
    }
   ],
   "source": [
    "square_wave(np.pi) #test"
   ]
  },
  {
   "cell_type": "markdown",
   "id": "73db9f",
   "metadata": {
    "collapsed": false
   },
   "source": [
    "Now **plot the square wave function on $[0, 2\\pi]$ and the $k$th partial sum of its Fourier series for $k=1, 5, 10$ on the same axes.**\n",
    "\n",
    "Use your answer to part 2 to compute the partial sums.  Include a legend or some other method to indicate which line on your plot is which.  Don't use too many $x$-values: experiment to find the minimum number that makes the partial sums look smooth. If you use too many, the plot will take a long time."
   ]
  },
  {
   "cell_type": "code",
   "execution_count": 15,
   "id": "f86cfe",
   "metadata": {
    "collapsed": false
   },
   "outputs": [
    {
     "data": {
      "image/png": "[encoded data removed]",
      "text/plain": "<Figure size 1200x700 with 1 Axes>"
     },
     "metadata": {
      "image/png": {
       "height": 604,
       "width": 1002
      }
     },
     "output_type": "execute_result"
    }
   ],
   "source": [
    "xs = np.linspace(0, 2*np.pi, 100)\n",
    "ys = [square_wave(x) for x in xs]\n",
    "plt.plot(xs, ys,'black', label = \"Square Wave\")\n",
    "# plotting the square wave function\n",
    "\n",
    "rs = [fourier_partial_sum(1, square_wave, x) for x in xs]\n",
    "qs = [fourier_partial_sum(5, square_wave, x) for x in xs]\n",
    "zs = [fourier_partial_sum(10, square_wave, x) for x in xs]\n",
    "# generating y values for the 1st, 5th and 10th Fourier partial sum \n",
    "\n",
    "plt.plot(xs,rs, 'r+', label = \"1st Partial Sum\")\n",
    "plt.plot(xs,qs, 'b:', label = \"5th Partial Sum\")\n",
    "plt.plot(xs,zs, 'g--', label = \"10th Partial Sum\")\n",
    "plt.title(\"Square Wave Function Approximation\")\n",
    "# labelling functions and graph\n",
    "\n",
    "plt.legend()\n",
    "plt.grid()"
   ]
  },
  {
   "cell_type": "markdown",
   "id": "d43c0a",
   "metadata": {
    "collapsed": false
   },
   "source": [
    "The triangle wave function is defined on the interval $[0, 2\\pi]$ by\n",
    "$$ \\mathtt{triangle\\_wave}(x) = \\begin{cases} \n",
    "\\pi x/4 & 0 \\leqslant x < \\pi/2 \\\\\n",
    "\\pi^2/8 - \\frac{\\pi}{4}(x-\\pi/2) & \\pi/2 \\leqslant x < 3\\pi/2 \\\\\n",
    "-\\pi^2/8 + \\frac{\\pi}{4}(x-3\\pi/2) & 3\\pi/2 \\leqslant x \\leqslant 2\\pi.\n",
    "\\end{cases}$$\n",
    "\n",
    "**Write a Python function that computes the triangle wave function above.**  You don't need to consider inputs outside the interval $[0, 2\\pi]$."
   ]
  },
  {
   "cell_type": "code",
   "execution_count": 16,
   "id": "5a0d97",
   "metadata": {
    "collapsed": false
   },
   "outputs": [
   ],
   "source": [
    "def triangle_wave(x):\n",
    "    if 0<=x<((np.pi)/2):\n",
    "        return (np.pi)*x/4\n",
    "    elif np.pi/2<=x<3*((np.pi)/2):\n",
    "        return (((np.pi)**2)/8)-((np.pi)/4)*(x-(np.pi)/2)\n",
    "    elif 3*((np.pi)/2)<= x <= 2*np.pi:\n",
    "        return -(((np.pi)**2)/8)+((np.pi)/4)*(x-(3*((np.pi))/2))\n",
    "    # defining triangle wave function"
   ]
  },
  {
   "cell_type": "code",
   "execution_count": 17,
   "id": "f710c4",
   "metadata": {
    "collapsed": false
   },
   "outputs": [
    {
     "data": {
      "text/plain": [
       "0.0"
      ]
     },
     "execution_count": 17,
     "metadata": {
     },
     "output_type": "execute_result"
    }
   ],
   "source": [
    "triangle_wave(np.pi) #test"
   ]
  },
  {
   "cell_type": "code",
   "execution_count": 18,
   "id": "3c7d25",
   "metadata": {
    "collapsed": false
   },
   "outputs": [
    {
     "data": {
      "text/plain": [
       "-1.2337005501361697"
      ]
     },
     "execution_count": 18,
     "metadata": {
     },
     "output_type": "execute_result"
    }
   ],
   "source": [
    "triangle_wave(3*(np.pi/2)) #test"
   ]
  },
  {
   "cell_type": "markdown",
   "id": "d38ade",
   "metadata": {
    "collapsed": false
   },
   "source": [
    "**Plot the triangle wave function on $[0, 2\\pi]$ and the $k$th partial sums of its Fourier series for $k = 1, 3, 5$ on the same axes.**"
   ]
  },
  {
   "cell_type": "code",
   "execution_count": 19,
   "id": "10ae5b",
   "metadata": {
    "collapsed": false
   },
   "outputs": [
    {
     "data": {
      "image/png": "[encoded data removed]",
      "text/plain": "<Figure size 1200x700 with 1 Axes>"
     },
     "metadata": {
      "image/png": {
       "height": 604,
       "width": 993
      }
     },
     "output_type": "execute_result"
    }
   ],
   "source": [
    "xs = np.linspace(0, 2*np.pi, 100)\n",
    "ys = [triangle_wave(x) for x in xs]\n",
    "plt.plot(xs,ys,'black', label = \"Triangle Wave\")\n",
    "# plotting the Triangle wave function\n",
    "\n",
    "ts = [fourier_partial_sum(1, triangle_wave, x) for x in xs]\n",
    "ws = [fourier_partial_sum(3, triangle_wave, x) for x in xs]\n",
    "zs = [fourier_partial_sum(5, triangle_wave, x) for x in xs]\n",
    "# generating y values for the 1st, 3rd and 5th Triangle partial sum \n",
    "\n",
    "plt.plot(xs,ts,'r+', label = \"1st Partial Sum\")\n",
    "plt.plot(xs,ws,'b--', label = \"3rd Partial Sum\")\n",
    "plt.plot(xs,zs,'g:', label = \"5th Partial Sum\")\n",
    "plt.title(\"Triangle Wave Function Approximation\")\n",
    "# labelling functions and graph\n",
    "\n",
    "plt.legend()\n",
    "plt.grid()\n",
    "# importing the grid and key"
   ]
  },
  {
   "cell_type": "markdown",
   "id": "74e57d",
   "metadata": {
    "collapsed": false
   },
   "source": [
    "## Part 4 - the Gibbs phenomenon\n",
    "\n",
    "**Use the `scipy` numerical integration functions to compute an approximation to $I = \\int_0 ^\\pi \\operatorname{sinc}(t) \\mathrm{d}t$**, where\n",
    "\n",
    "$$ \\operatorname{sinc}(x) = \\begin{cases} 1 & x = 0 \\\\ \\frac{\\sin(x)}{x} & x \\neq 0. \\end{cases}$$"
   ]
  },
  {
   "cell_type": "code",
   "execution_count": 20,
   "id": "c4ef22",
   "metadata": {
    "collapsed": false
   },
   "outputs": [
   ],
   "source": [
    "def sinc(x):\n",
    "    if x == 0:\n",
    "        out = 1\n",
    "    else:\n",
    "        out = ((np.sin(x))/x)\n",
    "    return out\n",
    "# defining sinc(x) function"
   ]
  },
  {
   "cell_type": "code",
   "execution_count": 21,
   "id": "a7bef3",
   "metadata": {
    "collapsed": false
   },
   "outputs": [
    {
     "data": {
      "text/plain": [
       "0.6366197723675814"
      ]
     },
     "execution_count": 21,
     "metadata": {
     },
     "output_type": "execute_result"
    }
   ],
   "source": [
    "sinc(np.pi/2) #test"
   ]
  },
  {
   "cell_type": "code",
   "execution_count": 22,
   "id": "0b6e20",
   "metadata": {
    "collapsed": false
   },
   "outputs": [
   ],
   "source": [
    "I = integrate.quad(sinc,0,np.pi)[0] # integrating sinc(x) between pi and 0. used the [0] to get the first position to exclude the estimation in the output"
   ]
  },
  {
   "cell_type": "markdown",
   "id": "cab6ee",
   "metadata": {
    "collapsed": false
   },
   "source": [
    "**On the same axes, with $x$-values between $0$ and $2\\pi$, plot the square wave, its 30th Fourier partial sum, and the two lines $y = \\pm I/2$.**\n",
    "\n",
    "Do not use more than a few hundred x-values in your plot - it may be too slow."
   ]
  },
  {
   "cell_type": "code",
   "execution_count": 23,
   "id": "21f394",
   "metadata": {
    "collapsed": false
   },
   "outputs": [
    {
     "data": {
      "image/png": "[encoded data removed]",
      "text/plain": "<Figure size 1200x700 with 1 Axes>"
     },
     "metadata": {
      "image/png": {
       "height": 604,
       "width": 1002
      }
     },
     "output_type": "execute_result"
    }
   ],
   "source": [
    "xs = np.linspace(0,2*np.pi,100)\n",
    "ys = [I/2 for x in xs]\n",
    "zs = [-I/2 for x in xs]\n",
    "plt.plot(xs,ys, label = \"+I/2\")\n",
    "plt.plot(xs,zs, label= \"-I/2\")\n",
    "# plotting and labelling +I/2 and -I/2 \n",
    "\n",
    "ws = [fourier_partial_sum(30, square_wave, x) for x in xs]\n",
    "vs = [square_wave(x) for x in xs]\n",
    "plt.plot(xs,ws, label = \"30th Partial Sum\")\n",
    "plt.plot(xs,vs,  label = \"Square Wave\")\n",
    "plt.title(\"The Gibbs Phenomenon\")\n",
    "# plotting and labelling the 30th Partial Sum, Square wave, and the title \n",
    "\n",
    "plt.legend()\n",
    "plt.grid()\n",
    "# importing the grid and key"
   ]
  },
  {
   "cell_type": "markdown",
   "id": "4427b6",
   "metadata": {
    "collapsed": false
   },
   "source": [
    "You should see the [**Gibbs pheonomenon**](https://en.wikipedia.org/wiki/Gibbs_phenomenon) appear on your plot: the partial sum of the Fourier series is larger in magnitude than the square wave it is approximating near points where the square wave changes value.  This is a serious issue in signal processing where these undershoots and overshoots result in visible or audible *ringing* artifacts.  One way to reduce it is via the *Lanczos sigma factor*.\n",
    "\n",
    "The $k$th Lanczos partial sum for a function $f: [0, 2\\pi] \\to \\mathbb{R}$ is defined as follows:\n",
    "\n",
    "$$\\mathtt{lanczos\\_partial\\_sum}(x,k) = a_0 + \\sum_{n=1}^k \\operatorname{sinc}\\left(\\frac{n\\pi}{2(k+1)}\\right) a_n \\cos(nx) + \\sum_{n=1}^k \\operatorname{sinc}\\left(\\frac{n\\pi}{2(k+1)}\\right) b_n \\sin(nx)$$\n",
    "\n",
    "where the $a_i$ and $b_i$ are the coefficients in the ordinary Fourier series.  The extra factor in each of the summands of the two sums is called the Lanczos sigma factor.  **Write a function `lanczos_partial_sum(k, f, x)` which computes the $k$th Lanczos partial sum of a function $f$.**\n"
   ]
  },
  {
   "cell_type": "code",
   "execution_count": 24,
   "id": "c2b8e6",
   "metadata": {
    "collapsed": false
   },
   "outputs": [
   ],
   "source": [
    "def lanczos_partial_sum(k, f, x):\n",
    "    sum_c = 0\n",
    "    for n in range(1,k+1):\n",
    "        sum_c += (sinc((n*np.pi)/(2*(k+1))))*a(n,f)*(np.cos(n*x))\n",
    "        \n",
    "    sum_d = 0\n",
    "    for n in range(1,k+1):\n",
    "        sum_d += (sinc((n*np.pi)/(2*(k+1))))*b(n,f)*(np.sin(n*x))\n",
    "    return a0(f) + sum_c + sum_d\n",
    "   # defining Lanczos partial sum \n",
    "    "
   ]
  },
  {
   "cell_type": "markdown",
   "id": "4c722d",
   "metadata": {
    "collapsed": false
   },
   "source": [
    "**On the same axes, plot `lanczos_partial_sum(x, square_wave, 30)`, the square wave function `square_wave(x)`, and the lines $y = \\pm \\frac I2$.**   Again, don't use more than a few hundred x-values.\n",
    "\n",
    "You should see that the Gibbs phenomenon is reduced but not eliminated. "
   ]
  },
  {
   "cell_type": "code",
   "execution_count": 25,
   "id": "ea2774",
   "metadata": {
    "collapsed": false
   },
   "outputs": [
    {
     "data": {
      "text/plain": [
       "<matplotlib.legend.Legend at 0x7fdc435ed060>"
      ]
     },
     "execution_count": 25,
     "metadata": {
     },
     "output_type": "execute_result"
    },
    {
     "data": {
      "image/png": "[encoded data removed]",
      "text/plain": "<Figure size 1200x700 with 1 Axes>"
     },
     "metadata": {
      "image/png": {
       "height": 604,
       "width": 1002
      }
     },
     "output_type": "execute_result"
    }
   ],
   "source": [
    "xs = np.linspace(0, 2*np.pi, 100)\n",
    "ys = [I/2 for x in xs]\n",
    "zs = [-I/2 for x in xs]\n",
    "plt.plot(xs,ys, label = \"+I/2\")\n",
    "plt.plot(xs,zs, label = \"-I/2\")\n",
    "# plotting and labelling +I/2 and -I/2 \n",
    "\n",
    "ws = [lanczos_partial_sum(30, square_wave, x) for x in xs]\n",
    "vs = [square_wave(x) for x in xs]\n",
    "plt.plot(xs,ws, 'r-', label = \"Lanczos 30th Partial Sum\")\n",
    "plt.plot(xs,vs, 'g', label = \"Square Wave\")\n",
    "plt.title(\"Reduced Gibbs Phenomenon\")\n",
    "# plotting and labelling the Lanczos 30th Partial Sum, Square wave, and the title \n",
    "\n",
    "plt.grid()\n",
    "plt.legend()\n",
    "# importing the grid and key"
   ]
  },
  {
   "cell_type": "markdown",
   "id": "031166",
   "metadata": {
    "collapsed": false
   },
   "source": [
    "# Submitting your project\n",
    "\n",
    "Check you have done the following.\n",
    "\n",
    "0. Included **all** group members' student numbers at the top of this notebook.\n",
    "1. Read through every exercise to check you have answered every part.\n",
    "2. Carefully read and followed all of the [MATH0011 project instructions](https://www.ucl.ac.uk/~ucahmto/0011/project-instructions-2025.html).\n",
    "3. Checked that all of the code in this notebook works correctly.\n",
    "\n",
    "One group member should download the completed notebook (in CoCalc, click the File menu next to the green Save button, then click Download) and submit it on the MATH0011 Moodle page in the projects section.  Please submit **only one file per group.**"
   ]
  }
 ],
 "metadata": {
  "kernelspec": {
   "argv": [
    "/usr/bin/python3",
    "-m",
    "ipykernel",
    "--HistoryManager.enabled=False",
    "--matplotlib=inline",
    "-c",
    "%config InlineBackend.figure_formats = set(['retina'])\nimport matplotlib; matplotlib.rcParams['figure.figsize'] = (12, 7)",
    "-f",
    "{connection_file}"
   ],
   "display_name": "Python 3 (system-wide)",
   "env": {
   },
   "language": "python",
   "metadata": {
    "cocalc": {
     "description": "Python 3 programming language",
     "priority": 100,
     "url": "https://www.python.org/"
    }
   },
   "name": "python3",
   "resource_dir": "/ext/jupyter/kernels/python3"
  },
  "language_info": {
   "codemirror_mode": {
    "name": "ipython",
    "version": 3
   },
   "file_extension": ".py",
   "mimetype": "text/x-python",
   "name": "python",
   "nbconvert_exporter": "python",
   "pygments_lexer": "ipython3",
   "version": "3.10.12"
  }
 },
 "nbformat": 4,
 "nbformat_minor": 4
}